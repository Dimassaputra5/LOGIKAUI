{
 "cells": [
  {
   "cell_type": "code",
   "execution_count": 2,
   "id": "c8a7b00d",
   "metadata": {
    "execution": {
     "iopub.execute_input": "2025-09-24T13:08:44.475260Z",
     "iopub.status.busy": "2025-09-24T13:08:44.474938Z",
     "iopub.status.idle": "2025-09-24T13:09:02.480166Z",
     "shell.execute_reply": "2025-09-24T13:09:02.479351Z",
     "shell.execute_reply.started": "2025-09-24T13:08:44.475235Z"
    },
    "trusted": true
   },
   "outputs": [
    {
     "name": "stdout",
     "output_type": "stream",
     "text": [
      "\u001b[2mUsing Python 3.11.13 environment at: /usr\u001b[0m\n",
      "\u001b[2K\u001b[2mResolved \u001b[1m36 packages\u001b[0m \u001b[2min 353ms\u001b[0m\u001b[0m                                        \u001b[0m\n",
      "\u001b[2K\u001b[37m⠙\u001b[0m \u001b[2mPreparing packages...\u001b[0m (0/1)                                                   \n",
      "\u001b[2K\u001b[1A\u001b[37m⠙\u001b[0m \u001b[2mPreparing packages...\u001b[0m (0/1)-----------\u001b[0m\u001b[0m     0 B/257.74 KiB             \u001b[1A\n",
      "\u001b[2K\u001b[1A\u001b[37m⠙\u001b[0m \u001b[2mPreparing packages...\u001b[0m (0/1)-----------\u001b[0m\u001b[0m 16.00 KiB/257.74 KiB           \u001b[1A\n",
      "\u001b[2K\u001b[1A\u001b[37m⠙\u001b[0m \u001b[2mPreparing packages...\u001b[0m (0/1)-----------\u001b[0m\u001b[0m 32.00 KiB/257.74 KiB           \u001b[1A\n",
      "\u001b[2K\u001b[1A\u001b[37m⠙\u001b[0m \u001b[2mPreparing packages...\u001b[0m (0/1)-----------\u001b[0m\u001b[0m 48.00 KiB/257.74 KiB           \u001b[1A\n",
      "\u001b[2K\u001b[1A\u001b[37m⠙\u001b[0m \u001b[2mPreparing packages...\u001b[0m (0/1)-----------\u001b[0m\u001b[0m 62.70 KiB/257.74 KiB           \u001b[1A\n",
      "\u001b[2K\u001b[1A\u001b[37m⠙\u001b[0m \u001b[2mPreparing packages...\u001b[0m (0/1)-----------\u001b[0m\u001b[0m 78.70 KiB/257.74 KiB           \u001b[1A\n",
      "\u001b[2K\u001b[1A\u001b[37m⠙\u001b[0m \u001b[2mPreparing packages...\u001b[0m (0/1)-----------\u001b[0m\u001b[0m 94.70 KiB/257.74 KiB           \u001b[1A\n",
      "\u001b[2K\u001b[1A\u001b[37m⠙\u001b[0m \u001b[2mPreparing packages...\u001b[0m (0/1)-----------\u001b[0m\u001b[0m 110.70 KiB/257.74 KiB          \u001b[1A\n",
      "\u001b[2K\u001b[1A\u001b[37m⠙\u001b[0m \u001b[2mPreparing packages...\u001b[0m (0/1)-----------\u001b[0m\u001b[0m 126.70 KiB/257.74 KiB          \u001b[1A\n",
      "\u001b[2K\u001b[1A\u001b[37m⠙\u001b[0m \u001b[2mPreparing packages...\u001b[0m (0/1)-----------\u001b[0m\u001b[0m 142.70 KiB/257.74 KiB          \u001b[1A\n",
      "\u001b[2K\u001b[1A\u001b[37m⠙\u001b[0m \u001b[2mPreparing packages...\u001b[0m (0/1)-----------\u001b[0m\u001b[0m 158.70 KiB/257.74 KiB          \u001b[1A\n",
      "\u001b[2K\u001b[1A\u001b[37m⠙\u001b[0m \u001b[2mPreparing packages...\u001b[0m (0/1)2m---------\u001b[0m\u001b[0m 174.70 KiB/257.74 KiB          \u001b[1A\n",
      "\u001b[2K\u001b[1A\u001b[37m⠙\u001b[0m \u001b[2mPreparing packages...\u001b[0m (0/1)\u001b[2m-------\u001b[0m\u001b[0m 190.70 KiB/257.74 KiB          \u001b[1A\n",
      "\u001b[2K\u001b[1A\u001b[37m⠙\u001b[0m \u001b[2mPreparing packages...\u001b[0m (0/1)--\u001b[2m-----\u001b[0m\u001b[0m 206.70 KiB/257.74 KiB          \u001b[1A\n",
      "\u001b[2K\u001b[1A\u001b[37m⠙\u001b[0m \u001b[2mPreparing packages...\u001b[0m (0/1)---\u001b[2m----\u001b[0m\u001b[0m 222.70 KiB/257.74 KiB          \u001b[1A\n",
      "\u001b[2K\u001b[1A\u001b[37m⠙\u001b[0m \u001b[2mPreparing packages...\u001b[0m (0/1)-----\u001b[2m--\u001b[0m\u001b[0m 238.70 KiB/257.74 KiB          \u001b[1A\n",
      "\u001b[2K\u001b[2mPrepared \u001b[1m1 package\u001b[0m \u001b[2min 38ms\u001b[0m\u001b[0m                                                   \u001b[1A\n",
      "\u001b[2mUninstalled \u001b[1m10 packages\u001b[0m \u001b[2min 33ms\u001b[0m\u001b[0m\n",
      "\u001b[2K\u001b[2mInstalled \u001b[1m11 packages\u001b[0m \u001b[2min 16.39s\u001b[0m\u001b[0m.0.70                        \u001b[0m\n",
      " \u001b[31m-\u001b[39m \u001b[1mnvidia-cublas-cu12\u001b[0m\u001b[2m==12.5.3.2\u001b[0m\n",
      " \u001b[32m+\u001b[39m \u001b[1mnvidia-cublas-cu12\u001b[0m\u001b[2m==12.4.5.8\u001b[0m\n",
      " \u001b[31m-\u001b[39m \u001b[1mnvidia-cuda-cupti-cu12\u001b[0m\u001b[2m==12.5.82\u001b[0m\n",
      " \u001b[32m+\u001b[39m \u001b[1mnvidia-cuda-cupti-cu12\u001b[0m\u001b[2m==12.4.127\u001b[0m\n",
      " \u001b[31m-\u001b[39m \u001b[1mnvidia-cuda-nvrtc-cu12\u001b[0m\u001b[2m==12.5.82\u001b[0m\n",
      " \u001b[32m+\u001b[39m \u001b[1mnvidia-cuda-nvrtc-cu12\u001b[0m\u001b[2m==12.4.127\u001b[0m\n",
      " \u001b[31m-\u001b[39m \u001b[1mnvidia-cuda-runtime-cu12\u001b[0m\u001b[2m==12.5.82\u001b[0m\n",
      " \u001b[32m+\u001b[39m \u001b[1mnvidia-cuda-runtime-cu12\u001b[0m\u001b[2m==12.4.127\u001b[0m\n",
      " \u001b[31m-\u001b[39m \u001b[1mnvidia-cudnn-cu12\u001b[0m\u001b[2m==9.3.0.75\u001b[0m\n",
      " \u001b[32m+\u001b[39m \u001b[1mnvidia-cudnn-cu12\u001b[0m\u001b[2m==9.1.0.70\u001b[0m\n",
      " \u001b[31m-\u001b[39m \u001b[1mnvidia-cufft-cu12\u001b[0m\u001b[2m==11.2.3.61\u001b[0m\n",
      " \u001b[32m+\u001b[39m \u001b[1mnvidia-cufft-cu12\u001b[0m\u001b[2m==11.2.1.3\u001b[0m\n",
      " \u001b[31m-\u001b[39m \u001b[1mnvidia-curand-cu12\u001b[0m\u001b[2m==10.3.6.82\u001b[0m\n",
      " \u001b[32m+\u001b[39m \u001b[1mnvidia-curand-cu12\u001b[0m\u001b[2m==10.3.5.147\u001b[0m\n",
      " \u001b[31m-\u001b[39m \u001b[1mnvidia-cusolver-cu12\u001b[0m\u001b[2m==11.6.3.83\u001b[0m\n",
      " \u001b[32m+\u001b[39m \u001b[1mnvidia-cusolver-cu12\u001b[0m\u001b[2m==11.6.1.9\u001b[0m\n",
      " \u001b[31m-\u001b[39m \u001b[1mnvidia-cusparse-cu12\u001b[0m\u001b[2m==12.5.1.3\u001b[0m\n",
      " \u001b[32m+\u001b[39m \u001b[1mnvidia-cusparse-cu12\u001b[0m\u001b[2m==12.3.1.170\u001b[0m\n",
      " \u001b[31m-\u001b[39m \u001b[1mnvidia-nvjitlink-cu12\u001b[0m\u001b[2m==12.5.82\u001b[0m\n",
      " \u001b[32m+\u001b[39m \u001b[1mnvidia-nvjitlink-cu12\u001b[0m\u001b[2m==12.4.127\u001b[0m\n",
      " \u001b[32m+\u001b[39m \u001b[1mpytorch-optimizer\u001b[0m\u001b[2m==3.8.0\u001b[0m\n"
     ]
    }
   ],
   "source": [
    "import pandas as pd\n",
    "import numpy as np\n",
    "import warnings\n",
    "warnings.filterwarnings('ignore')\n",
    "\n",
    "import matplotlib.pyplot as plt\n",
    "import seaborn as sns\n",
    "import os\n",
    "from PIL import Image\n",
    "\n",
    "from sklearn.model_selection import train_test_split\n",
    "\n",
    "import torch\n",
    "from torch import nn\n",
    "from torch.utils.data import DataLoader\n",
    "import torch.optim as optim\n",
    "from torchvision import datasets, transforms\n",
    "\n",
    "import pytorch_lightning as pl\n",
    "from pytorch_lightning import LightningModule\n",
    "from pytorch_lightning.callbacks import EarlyStopping, ModelCheckpoint, LearningRateMonitor\n",
    "from pytorch_lightning.loggers import TensorBoardLogger\n",
    "\n",
    "from torchmetrics.classification import MulticlassAccuracy, F1Score\n",
    "# !uv pip install pytorch_optimizer\n",
    "import pytorch_optimizer as optim1\n",
    "import optuna\n",
    "\n",
    "pl.seed_everything(42)\n",
    "device = torch.device(\"cuda:0\" if torch.cuda.is_available() else \"cpu\")"
   ]
  },
  {
   "cell_type": "code",
   "execution_count": 3,
   "id": "63f65c46",
   "metadata": {
    "execution": {
     "iopub.execute_input": "2025-09-24T13:09:04.071194Z",
     "iopub.status.busy": "2025-09-24T13:09:04.070633Z",
     "iopub.status.idle": "2025-09-24T13:09:04.078112Z",
     "shell.execute_reply": "2025-09-24T13:09:04.077260Z",
     "shell.execute_reply.started": "2025-09-24T13:09:04.071167Z"
    },
    "trusted": true
   },
   "outputs": [],
   "source": [
    "import os\n",
    "from PIL import Image\n",
    "from torch.utils.data import Dataset, DataLoader\n",
    "from torchvision import datasets, transforms\n",
    "\n",
    "class TestDataset(Dataset):\n",
    "    def __init__(self, root_dir, transform=None):\n",
    "        \"\"\"\n",
    "        Args:\n",
    "            root_dir (string): Path ke direktori berisi semua gambar test.\n",
    "            transform (callable, optional): Transformasi yang akan diterapkan pada gambar.\n",
    "        \"\"\"\n",
    "        self.root_dir = root_dir\n",
    "        self.transform = transform\n",
    "        self.image_files = sorted([f for f in os.listdir(root_dir) if os.path.isfile(os.path.join(root_dir, f))])\n",
    "\n",
    "    def __len__(self):\n",
    "        \"\"\"Mengembalikan jumlah total gambar dalam dataset.\"\"\"\n",
    "        return len(self.image_files)\n",
    "\n",
    "    def __getitem__(self, idx):\n",
    "        \"\"\"\n",
    "        Mengambil satu item data.\n",
    "\n",
    "        Args:\n",
    "            idx (int): Indeks dari item.\n",
    "        \n",
    "        Returns:\n",
    "            tuple: (image, image_name) di mana image_name adalah nama file.\n",
    "        \"\"\"\n",
    "        img_path = os.path.join(self.root_dir, self.image_files[idx])\n",
    "        image = Image.open(img_path).convert('RGB')\n",
    "        if self.transform:\n",
    "            image = self.transform(image)\n",
    "        image_name = self.image_files[idx]\n",
    "        return image, image_name"
   ]
  },
  {
   "cell_type": "code",
   "execution_count": null,
   "id": "7e664d77",
   "metadata": {
    "execution": {
     "iopub.execute_input": "2025-09-24T13:09:04.900983Z",
     "iopub.status.busy": "2025-09-24T13:09:04.900716Z",
     "iopub.status.idle": "2025-09-24T13:09:06.803467Z",
     "shell.execute_reply": "2025-09-24T13:09:06.802910Z",
     "shell.execute_reply.started": "2025-09-24T13:09:04.900963Z"
    },
    "trusted": true
   },
   "outputs": [],
   "source": [
    "train= transforms.Compose([\n",
    "            transforms.RandomResizedCrop(224),\n",
    "            transforms.RandomHorizontalFlip(),\n",
    "            transforms.RandomRotation(15),\n",
    "            transforms.RandomPerspective(),\n",
    "            transforms.RandomAffine(0, shear=10, scale=(0.8,1.2)),\n",
    "            transforms.ColorJitter(),\n",
    "            transforms.Grayscale(num_output_channels=3),\n",
    "            transforms.ToTensor(),\n",
    "            transforms.Normalize([0.485, 0.456, 0.406], [0.229, 0.224, 0.225])\n",
    "])\n",
    "val = transforms.Compose([\n",
    "        transforms.Resize(256),\n",
    "        transforms.CenterCrop(224),\n",
    "        transforms.ToTensor(),\n",
    "        transforms.Normalize([0.485, 0.456, 0.406], [0.229, 0.224, 0.225])\n",
    "])\n",
    "\n",
    "data_dir = '/kaggle/input/logika/Train/'\n",
    "\n",
    "train_dataset = datasets.ImageFolder(root=f'{data_dir}Train', transform=train)\n",
    "\n",
    "train_loader = DataLoader(train_dataset, batch_size=32, shuffle=True, num_workers=4)\n",
    "print(f'Jumlah data test: {len(train_dataset)}')"
   ]
  },
  {
   "cell_type": "code",
   "execution_count": 5,
   "id": "b58622c1",
   "metadata": {
    "execution": {
     "iopub.execute_input": "2025-09-24T13:09:06.804605Z",
     "iopub.status.busy": "2025-09-24T13:09:06.804367Z",
     "iopub.status.idle": "2025-09-24T13:09:07.310918Z",
     "shell.execute_reply": "2025-09-24T13:09:07.310376Z",
     "shell.execute_reply.started": "2025-09-24T13:09:06.804577Z"
    },
    "trusted": true
   },
   "outputs": [
    {
     "name": "stdout",
     "output_type": "stream",
     "text": [
      "Jumlah data test: 444\n"
     ]
    }
   ],
   "source": [
    "data_test_dir = '/kaggle/input/logika/Test/Test'\n",
    "\n",
    "test_dataset = TestDataset(root_dir=data_test_dir, transform=val)\n",
    "test_loader = DataLoader(test_dataset, batch_size=32, shuffle=False, num_workers=4)\n",
    "print(f'Jumlah data test: {len(test_dataset)}')"
   ]
  },
  {
   "cell_type": "code",
   "execution_count": 6,
   "id": "e5ebf143",
   "metadata": {
    "execution": {
     "iopub.execute_input": "2025-09-24T13:09:07.452867Z",
     "iopub.status.busy": "2025-09-24T13:09:07.452413Z",
     "iopub.status.idle": "2025-09-24T13:09:25.845855Z",
     "shell.execute_reply": "2025-09-24T13:09:25.845034Z",
     "shell.execute_reply.started": "2025-09-24T13:09:07.452845Z"
    },
    "trusted": true
   },
   "outputs": [
    {
     "data": {
      "text/plain": [
       "[tensor([[[[-1.6555, -1.5528, -1.3987,  ...,  2.2489,  2.2489,  2.2489],\n",
       "           [-1.5357, -1.3644, -1.2788,  ...,  2.2489,  2.2489,  2.2489],\n",
       "           [-1.5185, -1.1932, -1.1247,  ...,  2.2489,  2.2489,  2.2489],\n",
       "           ...,\n",
       "           [ 0.7933,  0.7933,  0.7933,  ..., -0.2856, -0.3027, -0.5253],\n",
       "           [ 0.8104,  0.8104,  0.7591,  ..., -0.3883, -0.3027, -0.3712],\n",
       "           [ 0.8104,  0.8104,  0.8276,  ..., -0.2684, -0.3369, -0.2856]],\n",
       " \n",
       "          [[-1.1779, -1.0378, -0.8452,  ...,  2.4286,  2.4286,  2.4286],\n",
       "           [-0.9853, -0.7577, -0.6527,  ...,  2.4286,  2.4286,  2.4286],\n",
       "           [-0.9853, -0.5126, -0.3901,  ...,  2.4286,  2.4286,  2.4286],\n",
       "           ...,\n",
       "           [ 0.9930,  1.0105,  1.0105,  ...,  0.0301, -0.0399, -0.2850],\n",
       "           [ 1.0280,  0.9930,  0.9580,  ..., -0.1099, -0.0399, -0.0924],\n",
       "           [ 1.0455,  1.0105,  1.0105,  ...,  0.0301, -0.0574, -0.0224]],\n",
       " \n",
       "          [[-1.3687, -1.2816, -1.1247,  ...,  2.6400,  2.6400,  2.6400],\n",
       "           [-1.2990, -1.1247, -1.0027,  ...,  2.6400,  2.6400,  2.6400],\n",
       "           [-1.3164, -0.9504, -0.9504,  ...,  2.6400,  2.6400,  2.6400],\n",
       "           ...,\n",
       "           [ 1.1585,  1.1585,  1.1585,  ...,  0.3045,  0.1999, -0.0092],\n",
       "           [ 1.1934,  1.1411,  1.0888,  ...,  0.1128,  0.2173,  0.1825],\n",
       "           [ 1.1934,  1.1585,  1.1411,  ...,  0.2696,  0.1476,  0.2348]]],\n",
       " \n",
       " \n",
       "         [[[-0.3541, -0.3712, -0.4054,  ..., -0.2342,  0.4679,  0.3652],\n",
       "           [-0.3369, -0.3541, -0.3883,  ..., -0.5938,  1.2043,  1.1872],\n",
       "           [-0.3369, -0.3541, -0.3712,  ..., -0.5938,  0.0056,  0.9646],\n",
       "           ...,\n",
       "           [-0.9363, -0.8335, -0.5424,  ..., -1.4843, -1.3302, -1.2959],\n",
       "           [ 0.1939,  0.2111,  0.2796,  ..., -1.3987, -1.2445, -1.4329],\n",
       "           [ 0.4679,  0.4851,  0.5022,  ..., -0.9534, -0.8164, -0.4739]],\n",
       " \n",
       "          [[ 0.5553,  0.5378,  0.5203,  ..., -0.1099,  0.6078,  0.5028],\n",
       "           [ 0.5728,  0.5553,  0.5378,  ..., -0.4776,  1.3606,  1.3431],\n",
       "           [ 0.5728,  0.5553,  0.5553,  ..., -0.4776,  0.1352,  1.1155],\n",
       "           ...,\n",
       "           [-0.9678, -0.8803, -0.5826,  ..., -1.0903, -0.9678, -0.9853],\n",
       "           [ 0.2402,  0.2577,  0.3102,  ..., -1.1078, -0.9328, -1.0903],\n",
       "           [ 0.5028,  0.5203,  0.5553,  ..., -0.8102, -0.6352, -0.2850]],\n",
       " \n",
       "          [[ 1.8034,  1.7860,  1.7860,  ...,  0.1476,  0.8448,  0.7228],\n",
       "           [ 1.8208,  1.8034,  1.8034,  ..., -0.2532,  1.5942,  1.5594],\n",
       "           [ 1.8208,  1.8034,  1.8034,  ..., -0.2881,  0.3568,  1.3328],\n",
       "           ...,\n",
       "           [-0.8284, -0.7238, -0.4624,  ..., -1.5081, -1.3339, -1.2816],\n",
       "           [ 0.3916,  0.3916,  0.4614,  ..., -1.3339, -1.1596, -1.3339],\n",
       "           [ 0.6182,  0.6356,  0.6705,  ..., -0.8981, -0.7238, -0.4101]]],\n",
       " \n",
       " \n",
       "         [[[ 0.6734,  0.6734,  0.6734,  ...,  0.6392,  0.6563,  0.6392],\n",
       "           [ 0.6906,  0.6734,  0.6734,  ...,  0.6392,  0.6563,  0.6563],\n",
       "           [ 0.6906,  0.6734,  0.6734,  ...,  0.6392,  0.6392,  0.6563],\n",
       "           ...,\n",
       "           [-1.1589, -1.1760, -1.1932,  ..., -1.4329, -1.3473, -1.7240],\n",
       "           [-1.1589, -1.2103, -1.2103,  ..., -1.5185, -1.4500, -1.4329],\n",
       "           [-1.1418, -1.1760, -1.1932,  ..., -1.5870, -1.5699, -1.3987]],\n",
       " \n",
       "          [[ 0.4853,  0.4853,  0.4853,  ...,  0.4503,  0.4678,  0.4853],\n",
       "           [ 0.5028,  0.4853,  0.4853,  ...,  0.4678,  0.4853,  0.4853],\n",
       "           [ 0.5028,  0.4853,  0.4853,  ...,  0.4678,  0.4678,  0.4678],\n",
       "           ...,\n",
       "           [-1.1253, -1.1604, -1.1779,  ..., -1.3179, -1.2479, -1.6331],\n",
       "           [-1.1429, -1.2129, -1.2129,  ..., -1.3880, -1.3354, -1.3529],\n",
       "           [-1.1429, -1.1779, -1.1954,  ..., -1.4580, -1.4580, -1.3179]],\n",
       " \n",
       "          [[ 0.1825,  0.1825,  0.1651,  ...,  0.0779,  0.0779,  0.1128],\n",
       "           [ 0.1825,  0.1651,  0.1476,  ...,  0.0605,  0.0779,  0.1128],\n",
       "           [ 0.1825,  0.1825,  0.1651,  ...,  0.0605,  0.0953,  0.1302],\n",
       "           ...,\n",
       "           [-1.2293, -1.2293, -1.2467,  ..., -1.0898, -1.0376, -1.4036],\n",
       "           [-1.2467, -1.2816, -1.2641,  ..., -1.1770, -1.1247, -1.1247],\n",
       "           [-1.2119, -1.2293, -1.2293,  ..., -1.2641, -1.2641, -1.1073]]],\n",
       " \n",
       " \n",
       "         ...,\n",
       " \n",
       " \n",
       "         [[[ 1.1529,  1.1529,  1.1529,  ...,  1.1358,  1.1358,  1.1358],\n",
       "           [ 1.1529,  1.1700,  1.1700,  ...,  1.1187,  1.1187,  1.1187],\n",
       "           [ 1.1529,  1.1700,  1.1872,  ...,  1.1187,  1.1187,  1.1015],\n",
       "           ...,\n",
       "           [ 0.2624,  0.2282,  0.3481,  ...,  0.8618,  0.7933,  0.5878],\n",
       "           [ 0.1939,  0.0398, -0.1999,  ...,  0.8789,  0.8618,  0.6906],\n",
       "           [-0.0116, -0.2513, -0.5767,  ...,  0.8276,  0.7762,  0.7591]],\n",
       " \n",
       "          [[ 1.3081,  1.3081,  1.3081,  ...,  1.2906,  1.2906,  1.2906],\n",
       "           [ 1.3081,  1.3256,  1.3256,  ...,  1.2731,  1.2731,  1.2731],\n",
       "           [ 1.3081,  1.3256,  1.3431,  ...,  1.2731,  1.2731,  1.2556],\n",
       "           ...,\n",
       "           [ 0.3978,  0.3627,  0.4853,  ...,  1.0105,  0.9405,  0.7304],\n",
       "           [ 0.3277,  0.1702, -0.0749,  ...,  1.0280,  1.0105,  0.8354],\n",
       "           [ 0.1176, -0.1275, -0.4601,  ...,  0.9755,  0.9230,  0.9055]],\n",
       " \n",
       "          [[ 1.5245,  1.5245,  1.5245,  ...,  1.5071,  1.5071,  1.5071],\n",
       "           [ 1.5245,  1.5420,  1.5420,  ...,  1.4897,  1.4897,  1.4897],\n",
       "           [ 1.5245,  1.5420,  1.5594,  ...,  1.4897,  1.4897,  1.4722],\n",
       "           ...,\n",
       "           [ 0.6182,  0.5834,  0.7054,  ...,  1.2282,  1.1585,  0.9494],\n",
       "           [ 0.5485,  0.3916,  0.1476,  ...,  1.2457,  1.2282,  1.0539],\n",
       "           [ 0.3393,  0.0953, -0.2358,  ...,  1.1934,  1.1411,  1.1237]]],\n",
       " \n",
       " \n",
       "         [[[ 0.9988,  0.9817,  0.9646,  ...,  0.0741,  0.0741,  0.0912],\n",
       "           [ 0.9817,  0.9817,  0.9646,  ...,  0.0741,  0.0741,  0.0741],\n",
       "           [ 0.9817,  0.9817,  0.9474,  ...,  0.0912,  0.0741,  0.0398],\n",
       "           ...,\n",
       "           [-0.1486, -0.1657, -0.1828,  ..., -0.2684, -0.2856, -0.2856],\n",
       "           [-0.1657, -0.1486, -0.1657,  ..., -0.2684, -0.2856, -0.2856],\n",
       "           [-0.1828, -0.1657, -0.1486,  ..., -0.2856, -0.2856, -0.2684]],\n",
       " \n",
       "          [[ 1.1506,  1.1506,  1.1681,  ...,  0.2577,  0.2577,  0.2577],\n",
       "           [ 1.1681,  1.1506,  1.1681,  ...,  0.2402,  0.2402,  0.2402],\n",
       "           [ 1.1506,  1.1506,  1.1506,  ...,  0.2227,  0.2227,  0.2227],\n",
       "           ...,\n",
       "           [-0.0399, -0.0574, -0.0399,  ..., -0.1450, -0.1275, -0.1275],\n",
       "           [-0.0574, -0.0574, -0.0574,  ..., -0.1625, -0.1625, -0.1275],\n",
       "           [-0.0574, -0.0574, -0.0399,  ..., -0.1450, -0.1450, -0.1275]],\n",
       " \n",
       "          [[ 1.5768,  1.5594,  1.5594,  ...,  0.4614,  0.4614,  0.4614],\n",
       "           [ 1.5594,  1.5768,  1.5594,  ...,  0.4439,  0.4439,  0.4439],\n",
       "           [ 1.5768,  1.5594,  1.5420,  ...,  0.4614,  0.4439,  0.4265],\n",
       "           ...,\n",
       "           [ 0.1651,  0.1651,  0.1825,  ...,  0.0605,  0.0779,  0.0605],\n",
       "           [ 0.1825,  0.1825,  0.1825,  ...,  0.0605,  0.0605,  0.0605],\n",
       "           [ 0.1825,  0.1825,  0.1999,  ...,  0.0779,  0.0779,  0.0779]]],\n",
       " \n",
       " \n",
       "         [[[ 0.1083,  0.3309, -0.1143,  ..., -0.3027, -0.6623, -0.6281],\n",
       "           [ 0.0227,  0.0227,  0.1426,  ..., -0.5767, -0.3541, -0.3883],\n",
       "           [ 0.1768,  0.2111, -0.0458,  ..., -0.2171,  0.0569, -0.5596],\n",
       "           ...,\n",
       "           [-1.8097, -1.5357, -1.3644,  ...,  0.3309, -0.1657, -1.2959],\n",
       "           [-1.8268, -1.5357, -1.3473,  ...,  0.4508,  0.3994, -0.5767],\n",
       "           [-1.7925, -1.4843, -1.3987,  ...,  0.2624,  0.1768, -0.0801]],\n",
       " \n",
       "          [[ 0.8004,  1.0805,  0.4503,  ...,  0.0826,  0.2752,  0.3452],\n",
       "           [ 0.7829,  0.7129,  0.8004,  ..., -0.1800,  0.4678,  0.3978],\n",
       "           [ 1.0280,  1.0980,  0.6429,  ..., -0.2850,  0.3102, -0.3025],\n",
       "           ...,\n",
       "           [-1.6856, -1.4055, -1.2304,  ...,  0.4153, -0.0574, -1.1954],\n",
       "           [-1.7031, -1.4055, -1.2129,  ...,  0.5203,  0.5028, -0.4426],\n",
       "           [-1.6681, -1.3529, -1.2654,  ...,  0.3452,  0.2402,  0.0301]],\n",
       " \n",
       "          [[ 1.6291,  1.9428,  1.1237,  ...,  0.5834,  1.4722,  1.5594],\n",
       "           [ 1.7163,  1.6117,  1.6465,  ...,  0.5659,  1.5245,  1.4025],\n",
       "           [ 1.9951,  2.0474,  1.5071,  ...,  0.0256,  0.6705,  0.0953],\n",
       "           ...,\n",
       "           [-1.4733, -1.1944, -1.0201,  ...,  0.4265, -0.0441, -1.0550],\n",
       "           [-1.4907, -1.1944, -0.9853,  ...,  0.5311,  0.5136, -0.3927],\n",
       "           [-1.4559, -1.1247, -1.0201,  ...,  0.3568,  0.2696,  0.0605]]]]),\n",
       " ('Test_001.jpg',\n",
       "  'Test_002.jpg',\n",
       "  'Test_003.jpg',\n",
       "  'Test_004.jpg',\n",
       "  'Test_005.jpg',\n",
       "  'Test_006.jpg',\n",
       "  'Test_007.jpg',\n",
       "  'Test_008.jpg',\n",
       "  'Test_009.jpg',\n",
       "  'Test_010.jpg',\n",
       "  'Test_011.jpg',\n",
       "  'Test_012.jpg',\n",
       "  'Test_013.jpg',\n",
       "  'Test_014.jpg',\n",
       "  'Test_015.jpg',\n",
       "  'Test_016.jpg',\n",
       "  'Test_017.jpg',\n",
       "  'Test_018.jpg',\n",
       "  'Test_019.jpg',\n",
       "  'Test_020.jpg',\n",
       "  'Test_021.jpg',\n",
       "  'Test_022.jpg',\n",
       "  'Test_023.jpg',\n",
       "  'Test_024.jpg',\n",
       "  'Test_025.jpg',\n",
       "  'Test_026.jpg',\n",
       "  'Test_027.jpg',\n",
       "  'Test_028.jpg',\n",
       "  'Test_029.jpg',\n",
       "  'Test_030.jpg',\n",
       "  'Test_031.jpg',\n",
       "  'Test_032.jpg')]"
      ]
     },
     "execution_count": 6,
     "metadata": {},
     "output_type": "execute_result"
    }
   ],
   "source": [
    "feature = next(iter(test_loader))\n",
    "feature"
   ]
  },
  {
   "cell_type": "code",
   "execution_count": 7,
   "id": "79885754",
   "metadata": {
    "execution": {
     "iopub.execute_input": "2025-09-24T13:09:25.847479Z",
     "iopub.status.busy": "2025-09-24T13:09:25.847267Z",
     "iopub.status.idle": "2025-09-24T13:09:25.852488Z",
     "shell.execute_reply": "2025-09-24T13:09:25.851872Z",
     "shell.execute_reply.started": "2025-09-24T13:09:25.847457Z"
    },
    "trusted": true
   },
   "outputs": [
    {
     "data": {
      "text/plain": [
       "{'balinese': 0, 'batak': 1, 'dayak': 2, 'javanese': 3, 'minangkabau': 4}"
      ]
     },
     "execution_count": 7,
     "metadata": {},
     "output_type": "execute_result"
    }
   ],
   "source": [
    "label2cat, idxclass = train_dataset.class_to_idx, train_dataset.classes\n",
    "label2cat"
   ]
  },
  {
   "cell_type": "markdown",
   "id": "c33863dd",
   "metadata": {},
   "source": [
    "## Arsitektur dan config"
   ]
  },
  {
   "cell_type": "code",
   "execution_count": 8,
   "id": "679c7a9f",
   "metadata": {
    "execution": {
     "iopub.execute_input": "2025-09-24T13:09:35.007334Z",
     "iopub.status.busy": "2025-09-24T13:09:35.006789Z",
     "iopub.status.idle": "2025-09-24T13:09:35.015883Z",
     "shell.execute_reply": "2025-09-24T13:09:35.015083Z",
     "shell.execute_reply.started": "2025-09-24T13:09:35.007308Z"
    },
    "trusted": true
   },
   "outputs": [],
   "source": [
    "def conv_block(in_feature, out_feature, padding=1, stride=1,\n",
    "             activation=\"relu\", pool =True, maxpool=True, kernel_size=3,\n",
    "             kernel_size_pool=2, pool_stride=2)-> list[nn.Sequential]:\n",
    "    layers = [nn.Conv2d(in_feature, out_feature, kernel_size=kernel_size, padding=padding, stride=stride)]\n",
    "    if activation == \"relu\":\n",
    "        layers.append(nn.ReLU())\n",
    "    elif activation == \"leakyrelu\":\n",
    "        layers.append(nn.LeakyReLU())\n",
    "    elif activation == \"sigmoid\":\n",
    "        layers.append(nn.Sigmoid())\n",
    "    elif activation == 'mish': layers.append(nn.Mish())\n",
    "    elif activation == \"tanh\":\n",
    "        layers.append(nn.Tanh())\n",
    "    if pool:\n",
    "        if maxpool:\n",
    "            layers.append(nn.MaxPool2d(kernel_size=kernel_size_pool, stride=pool_stride))\n",
    "        else:\n",
    "            layers.append(nn.AvgPool2d(kernel_size=kernel_size_pool, stride=pool_stride))\n",
    "    else:\n",
    "        layers.append(nn.Identity())\n",
    "    return nn.Sequential(*layers)\n",
    "\n",
    "\n",
    "def linear_block(in_features, out_features, activation=None, dropout=0.0, batch_norm=None):\n",
    "    layers = [nn.Linear(in_features, out_features)]\n",
    "    if batch_norm:\n",
    "        layers.append(nn.BatchNorm1d(out_features))\n",
    "    if activation == 'relu':\n",
    "        layers.append(nn.ReLU())\n",
    "    elif activation == 'sigmoid':\n",
    "        layers.append(nn.Sigmoid())\n",
    "    elif activation == 'tanh':\n",
    "        layers.append(nn.Tanh())\n",
    "    elif activation == 'leakyrelu':\n",
    "        layers.append(nn.LeakyReLU())\n",
    "    elif activation == 'mish': layers.append(nn.Mish())\n",
    "    elif activation == 'softmax':\n",
    "        layers.append(nn.Softmax(dim=1))\n",
    "    elif activation == 'elu':\n",
    "        layers.append(nn.ELU())\n",
    "    elif activation == 'selu':\n",
    "        layers.append(nn.SELU())\n",
    "    elif activation == 'lsoftmax':\n",
    "        layers.append(nn.LogSoftmax(dim=1))\n",
    "    if dropout > 0.0:\n",
    "        layers.append(nn.Dropout(dropout))\n",
    "    return nn.Sequential(*layers)"
   ]
  },
  {
   "cell_type": "code",
   "execution_count": null,
   "id": "27a449c0",
   "metadata": {
    "execution": {
     "iopub.execute_input": "2025-09-24T13:09:35.709458Z",
     "iopub.status.busy": "2025-09-24T13:09:35.708912Z",
     "iopub.status.idle": "2025-09-24T13:09:35.719836Z",
     "shell.execute_reply": "2025-09-24T13:09:35.719214Z",
     "shell.execute_reply.started": "2025-09-24T13:09:35.709436Z"
    },
    "trusted": true
   },
   "outputs": [],
   "source": [
    "\n",
    "class CNN(LightningModule):\n",
    "    def __init__(self, dropout) -> None:\n",
    "        super().__init__()\n",
    "        self.conv = nn.Sequential(\n",
    "            conv_block(3, 8, activation='mish'),\n",
    "            conv_block(8, 16, activation='mish'),\n",
    "            conv_block(16, 32, activation='mish'),\n",
    "            nn.Flatten()\n",
    "        )\n",
    "        self.fc = nn.Sequential(\n",
    "            linear_block(32*784, 256, activation='mish', dropout=dropout, batch_norm=True),\n",
    "            linear_block(256, 128, activation='mish', dropout=dropout, batch_norm=True),\n",
    "            linear_block(128, 64, activation='mish', dropout=dropout, batch_norm=True),\n",
    "            linear_block(64, 5, activation=None)\n",
    "        )\n",
    "    def forward(self, X):\n",
    "        return self.fc(self.conv(X))\n",
    "        \n",
    "class PL(LightningModule):\n",
    "    def __init__(self, model, learning_rate) -> None:\n",
    "        super().__init__()\n",
    "        self.model = model\n",
    "        self.learning_rate = learning_rate\n",
    "        self.criterion = nn.CrossEntropyLoss()\n",
    "        self.macroF1 = F1Score(num_classes=5, average='macro', task='multiclass')\n",
    "    \n",
    "    def forward(self, X):\n",
    "        return self.model(X)\n",
    "    \n",
    "    def _common_step(self, batch, batch_idx):\n",
    "        X, labels = batch\n",
    "        outputs = self(X) \n",
    "        loss = self.criterion(outputs, labels)\n",
    "        macrof1 = self.macroF1(outputs, labels)\n",
    "        return loss, macrof1\n",
    "\n",
    "    def training_step(self, batch, batch_idx):\n",
    "        loss, macroF1 = self._common_step(batch, batch_idx)\n",
    "        self.log('train_loss', loss, on_step=True, on_epoch=True, prog_bar=True, logger=True)\n",
    "        self.log('train_macrof1', macroF1, on_step=True, on_epoch=True, prog_bar=True, logger=True)\n",
    "        return loss\n",
    "\n",
    "    def validation_step(self, batch, batch_idx):\n",
    "        loss, macroF1 = self._common_step(batch, batch_idx)\n",
    "        self.log('val_loss', loss, on_epoch=True, prog_bar=True, logger=True)\n",
    "        self.log('val_macrof1', macroF1, on_epoch=True, prog_bar=True, logger=True)\n",
    "\n",
    "    def test_step(self, batch, batch_idx):\n",
    "        loss, macroF1 = self._common_step(batch, batch_idx)\n",
    "        self.log('test_loss', loss, on_epoch=True, prog_bar=True, logger=True)\n",
    "        self.log('test_macrof1', macroF1, on_epoch=True, prog_bar=True, logger=True)\n",
    "\n",
    "    def backward(self, loss, *args, **kwargs):\n",
    "        loss.backward(create_graph=True)\n",
    "\n",
    "    def configure_optimizers(self):\n",
    "        optimizer = optim1.Lion(self.parameters(), lr=self.learning_rate)\n",
    "        return optimizer\n",
    "\n",
    "    def predict_step(self, batch, batch_idx, dataloader_idx=0):\n",
    "        \"\"\"\n",
    "        Langkah prediksi untuk satu batch data test.\n",
    "        \"\"\"\n",
    "        images, image_names = batch\n",
    "        outputs = self.forward(images)\n",
    "        _, predicted_labels = torch.max(outputs, 1)\n",
    "        return {\"image_names\": image_names, \"preds\": predicted_labels}"
   ]
  },
  {
   "cell_type": "code",
   "execution_count": 11,
   "id": "c19ac7d8",
   "metadata": {
    "execution": {
     "iopub.execute_input": "2025-09-24T13:10:07.057604Z",
     "iopub.status.busy": "2025-09-24T13:10:07.057340Z",
     "iopub.status.idle": "2025-09-24T13:10:07.098341Z",
     "shell.execute_reply": "2025-09-24T13:10:07.097806Z",
     "shell.execute_reply.started": "2025-09-24T13:10:07.057585Z"
    },
    "trusted": true
   },
   "outputs": [],
   "source": [
    "if torch.cuda.is_available():\n",
    "    accelerator_type = 'gpu'\n",
    "    devices_to_use = 1\n",
    "else:\n",
    "    accelerator_type = 'cpu'\n",
    "    devices_to_use = 'auto'\n",
    "\n",
    "checkpoint_callback = ModelCheckpoint(\n",
    "    monitor='train_macrof1',\n",
    "    dirpath='checkpoints/',\n",
    "    filename='logikaui-{epoch:02d}-{train_macrof1:.2f}',\n",
    "    save_top_k=1,\n",
    "    mode='max'\n",
    ")\n",
    "early_stopping = EarlyStopping(\n",
    "    monitor='train_loss',\n",
    "    patience=10,\n",
    "    mode='min',\n",
    ")\n",
    "lr_monitor_callback = LearningRateMonitor(logging_interval='epoch')\n",
    "\n",
    "trainer1 = pl.Trainer(\n",
    "    max_epochs=300,\n",
    "    callbacks=[checkpoint_callback, early_stopping, lr_monitor_callback],\n",
    "    logger=TensorBoardLogger(\"tb_logs\", name=\"simple_model_experiment\"),\n",
    "    accelerator=accelerator_type,\n",
    "    devices=devices_to_use,\n",
    "    log_every_n_steps=10,\n",
    "    deterministic=True\n",
    ")"
   ]
  },
  {
   "cell_type": "markdown",
   "id": "1ad56595",
   "metadata": {},
   "source": [
    "## Train"
   ]
  },
  {
   "cell_type": "code",
   "execution_count": 12,
   "id": "9a5c98a3",
   "metadata": {
    "execution": {
     "iopub.execute_input": "2025-09-24T13:10:09.489187Z",
     "iopub.status.busy": "2025-09-24T13:10:09.488674Z",
     "iopub.status.idle": "2025-09-24T13:10:09.549558Z",
     "shell.execute_reply": "2025-09-24T13:10:09.548818Z",
     "shell.execute_reply.started": "2025-09-24T13:10:09.489159Z"
    },
    "trusted": true
   },
   "outputs": [],
   "source": [
    "model = PL(CNN(dropout=0.2), learning_rate=1e-3)"
   ]
  },
  {
   "cell_type": "code",
   "execution_count": null,
   "id": "6d142303",
   "metadata": {
    "execution": {
     "execution_failed": "2025-09-24T13:10:38.487Z",
     "iopub.execute_input": "2025-09-24T13:10:10.479079Z",
     "iopub.status.busy": "2025-09-24T13:10:10.478382Z"
    },
    "trusted": true
   },
   "outputs": [
    {
     "name": "stderr",
     "output_type": "stream",
     "text": [
      "2025-09-24 13:10:12.127333: E external/local_xla/xla/stream_executor/cuda/cuda_fft.cc:477] Unable to register cuFFT factory: Attempting to register factory for plugin cuFFT when one has already been registered\n",
      "WARNING: All log messages before absl::InitializeLog() is called are written to STDERR\n",
      "E0000 00:00:1758719412.299474      36 cuda_dnn.cc:8310] Unable to register cuDNN factory: Attempting to register factory for plugin cuDNN when one has already been registered\n",
      "E0000 00:00:1758719412.348465      36 cuda_blas.cc:1418] Unable to register cuBLAS factory: Attempting to register factory for plugin cuBLAS when one has already been registered\n"
     ]
    },
    {
     "data": {
      "application/vnd.jupyter.widget-view+json": {
       "model_id": "99958b6a814d45e697f4690725158b0d",
       "version_major": 2,
       "version_minor": 0
      },
      "text/plain": [
       "Training: |          | 0/? [00:00<?, ?it/s]"
      ]
     },
     "metadata": {},
     "output_type": "display_data"
    }
   ],
   "source": [
    "trainer1.fit(model, train_loader, val_dataloaders=None)"
   ]
  },
  {
   "cell_type": "code",
   "execution_count": null,
   "id": "738ba917",
   "metadata": {
    "execution": {
     "execution_failed": "2025-09-24T13:10:38.488Z"
    },
    "trusted": true
   },
   "outputs": [],
   "source": [
    "if __name__ == \"__main__\":\n",
    "    preds = trainer1.predict(model, test_loader, ckpt_path='best')\n",
    "    print(preds)"
   ]
  },
  {
   "cell_type": "code",
   "execution_count": null,
   "id": "4f001afb",
   "metadata": {
    "trusted": true
   },
   "outputs": [],
   "source": [
    "predictions = []\n",
    "for batch_result in preds:\n",
    "    # batch_result adalah dictionary yang kita return dari predict_step\n",
    "    image_names = batch_result['image_names']\n",
    "    preds = batch_result['preds'].cpu().numpy() # Pindahkan ke CPU\n",
    "    \n",
    "    for name, label in zip(image_names, preds):\n",
    "        predictions.append({\n",
    "            'id': name,      # Nama kolom sesuai standar Kaggle\n",
    "            'style': label   # Nama kolom sesuai standar Kaggle\n",
    "        })"
   ]
  }
 ],
 "metadata": {
  "kaggle": {
   "accelerator": "gpu",
   "dataSources": [
    {
     "databundleVersionId": 13809662,
     "sourceId": 115446,
     "sourceType": "competition"
    },
    {
     "datasetId": 8336088,
     "sourceId": 13156543,
     "sourceType": "datasetVersion"
    }
   ],
   "dockerImageVersionId": 31089,
   "isGpuEnabled": true,
   "isInternetEnabled": true,
   "language": "python",
   "sourceType": "notebook"
  },
  "kernelspec": {
   "display_name": "Python 3",
   "language": "python",
   "name": "python3"
  },
  "language_info": {
   "codemirror_mode": {
    "name": "ipython",
    "version": 3
   },
   "file_extension": ".py",
   "mimetype": "text/x-python",
   "name": "python",
   "nbconvert_exporter": "python",
   "pygments_lexer": "ipython3",
   "version": "3.11.13"
  }
 },
 "nbformat": 4,
 "nbformat_minor": 5
}
